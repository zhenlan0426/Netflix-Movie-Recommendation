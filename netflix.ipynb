{
 "cells": [
  {
   "cell_type": "code",
   "execution_count": 1,
   "metadata": {
    "collapsed": true
   },
   "outputs": [],
   "source": [
    "import tensorflow as tf\n",
    "import numpy as np\n",
    "import pandas as pd\n",
    "import matplotlib.pyplot as plt\n",
    "import cPickle\n",
    "%matplotlib inline "
   ]
  },
  {
   "cell_type": "code",
   "execution_count": 2,
   "metadata": {
    "collapsed": true
   },
   "outputs": [],
   "source": [
    "def reader(addr,Data,userDict):\n",
    "    # read txt file into list of list,\n",
    "    # where X has movie,user,year,month,day columns and y has rating\n",
    "    # UserIDs range from 1 to 2649429, with gaps.\n",
    "    # userDict is used to remap userID to integer value without gaps for better efficiency with embedding later on.\n",
    "    with open(addr) as f:\n",
    "        for line in f:\n",
    "            if ':' in line:\n",
    "                movie = np.int32(line.rsplit(':', 1)[0]) - 1\n",
    "            else:\n",
    "                user,rating,date = line.split(',')\n",
    "                if user in userDict:\n",
    "                    user = userDict[user]\n",
    "                else:\n",
    "                    userDict[user] = len(userDict)\n",
    "                    user = userDict[user]\n",
    "                Data.append([np.int32(rating),movie,user]+map(np.int32,date.replace('\\n','').split('-')))\n",
    "    return Data,userDict"
   ]
  },
  {
   "cell_type": "code",
   "execution_count": 3,
   "metadata": {
    "collapsed": true
   },
   "outputs": [],
   "source": [
    "Data,userDict = [],{}"
   ]
  },
  {
   "cell_type": "code",
   "execution_count": 4,
   "metadata": {
    "collapsed": true
   },
   "outputs": [],
   "source": [
    "for i in range(1,5):\n",
    "    Data,userDict = reader('Netflix Data/combined_data_{}.txt'.format(i),Data,userDict)"
   ]
  },
  {
   "cell_type": "code",
   "execution_count": 5,
   "metadata": {},
   "outputs": [
    {
     "data": {
      "text/plain": [
       "480189"
      ]
     },
     "execution_count": 5,
     "metadata": {},
     "output_type": "execute_result"
    }
   ],
   "source": [
    "len(userDict)"
   ]
  },
  {
   "cell_type": "code",
   "execution_count": 6,
   "metadata": {},
   "outputs": [
    {
     "data": {
      "text/plain": [
       "100480507"
      ]
     },
     "execution_count": 6,
     "metadata": {},
     "output_type": "execute_result"
    }
   ],
   "source": [
    "len(Data)"
   ]
  },
  {
   "cell_type": "markdown",
   "metadata": {},
   "source": [
    "<br>"
   ]
  },
  {
   "cell_type": "markdown",
   "metadata": {},
   "source": [
    "As the competition is closed, I have to make my own test dataset. As there is no other information about user/movie, I need to avoid unseen movie or user in the training dataset. Given there is a lot more users than movies, I will sample movies for each user. Note that the test dataset distribution is not necessarily the same as training in reality due to movie/user shift over time."
   ]
  },
  {
   "cell_type": "code",
   "execution_count": 7,
   "metadata": {
    "collapsed": true
   },
   "outputs": [],
   "source": [
    "np.random.seed(7)"
   ]
  },
  {
   "cell_type": "code",
   "execution_count": 8,
   "metadata": {
    "collapsed": true
   },
   "outputs": [],
   "source": [
    "Data = pd.DataFrame(Data,columns=['rating','movie','user','year','month','day'])"
   ]
  },
  {
   "cell_type": "code",
   "execution_count": 9,
   "metadata": {
    "collapsed": true
   },
   "outputs": [],
   "source": [
    "Data['seed']=np.random.rand(Data.shape[0])"
   ]
  },
  {
   "cell_type": "code",
   "execution_count": 10,
   "metadata": {
    "collapsed": true
   },
   "outputs": [],
   "source": [
    "def filter_(x,p,lessThan):\n",
    "    return x[x.seed<x.seed.quantile(p)] if lessThan else x[x.seed>=x.seed.quantile(p)]"
   ]
  },
  {
   "cell_type": "code",
   "execution_count": 11,
   "metadata": {
    "collapsed": true
   },
   "outputs": [],
   "source": [
    "dataTest=Data.groupby('user',sort=False).apply(lambda x:filter_(x,0.2,True))"
   ]
  },
  {
   "cell_type": "code",
   "execution_count": 12,
   "metadata": {
    "collapsed": true
   },
   "outputs": [],
   "source": [
    "dataTrain=Data.groupby('user',sort=False).apply(lambda x:filter_(x,0.2,False))"
   ]
  },
  {
   "cell_type": "code",
   "execution_count": 13,
   "metadata": {},
   "outputs": [
    {
     "name": "stdout",
     "output_type": "stream",
     "text": [
      "80287772 20192735\n"
     ]
    }
   ],
   "source": [
    "print dataTrain.shape[0], dataTest.shape[0]"
   ]
  },
  {
   "cell_type": "markdown",
   "metadata": {},
   "source": [
    "Check is test user/movie set is contained within train user/movie set"
   ]
  },
  {
   "cell_type": "code",
   "execution_count": 14,
   "metadata": {},
   "outputs": [
    {
     "data": {
      "text/plain": [
       "True"
      ]
     },
     "execution_count": 14,
     "metadata": {},
     "output_type": "execute_result"
    }
   ],
   "source": [
    "set(dataTrain.user) >= set(dataTest.user)"
   ]
  },
  {
   "cell_type": "code",
   "execution_count": 15,
   "metadata": {},
   "outputs": [
    {
     "data": {
      "text/plain": [
       "True"
      ]
     },
     "execution_count": 15,
     "metadata": {},
     "output_type": "execute_result"
    }
   ],
   "source": [
    "set(dataTrain.movie) >= set(dataTest.movie)"
   ]
  },
  {
   "cell_type": "code",
   "execution_count": 16,
   "metadata": {
    "collapsed": true
   },
   "outputs": [],
   "source": [
    "Xtrain = dataTrain[['movie','user','year','month','day']].values\n",
    "ytrain = dataTrain['rating'].values.astype(np.float32)\n",
    "Xtest = dataTest[['movie','user','year','month','day']].values\n",
    "ytest = dataTest['rating'].values.astype(np.float32)"
   ]
  },
  {
   "cell_type": "code",
   "execution_count": 17,
   "metadata": {
    "collapsed": true
   },
   "outputs": [],
   "source": [
    "del dataTrain,dataTest,Data"
   ]
  },
  {
   "cell_type": "code",
   "execution_count": 18,
   "metadata": {
    "collapsed": true
   },
   "outputs": [],
   "source": [
    "with open(r\"Xtrain.pickle\", \"wb\") as output_file:\n",
    "    cPickle.dump(Xtrain, output_file)\n",
    "with open(r\"ytrain.pickle\", \"wb\") as output_file:\n",
    "    cPickle.dump(ytrain, output_file)\n",
    "with open(r\"Xtest.pickle\", \"wb\") as output_file:\n",
    "    cPickle.dump(Xtest, output_file)\n",
    "with open(r\"ytest.pickle\", \"wb\") as output_file:\n",
    "    cPickle.dump(ytest, output_file)"
   ]
  },
  {
   "cell_type": "code",
   "execution_count": 2,
   "metadata": {
    "collapsed": true
   },
   "outputs": [],
   "source": [
    "with open(r\"Xtrain.pickle\", \"rb\") as output_file:\n",
    "    Xtrain=cPickle.load(output_file)\n",
    "with open(r\"ytrain.pickle\", \"rb\") as output_file:\n",
    "    ytrain=cPickle.load(output_file)\n",
    "with open(r\"Xtest.pickle\", \"rb\") as output_file:\n",
    "    Xtest=cPickle.load(output_file)\n",
    "with open(r\"ytest.pickle\", \"rb\") as output_file:\n",
    "    ytest=cPickle.load(output_file)"
   ]
  },
  {
   "cell_type": "code",
   "execution_count": 71,
   "metadata": {},
   "outputs": [
    {
     "data": {
      "text/plain": [
       "1.1776123"
      ]
     },
     "execution_count": 71,
     "metadata": {},
     "output_type": "execute_result"
    }
   ],
   "source": [
    "# baseline RMSE\n",
    "np.mean((ytest - ytrain.mean())**2)"
   ]
  },
  {
   "cell_type": "markdown",
   "metadata": {},
   "source": [
    "<br>"
   ]
  },
  {
   "cell_type": "markdown",
   "metadata": {},
   "source": [
    "inner product Model"
   ]
  },
  {
   "cell_type": "code",
   "execution_count": 3,
   "metadata": {
    "collapsed": true
   },
   "outputs": [],
   "source": [
    "batch_size = 2000\n",
    "cells_dim = 51 # fist dim is intercept for user/movie\n",
    "learning_rate = 1e-3\n",
    "epoch = 5\n",
    "V_user = np.max(Xtrain[:,1])\n",
    "V_movie = np.max(Xtrain[:,0])"
   ]
  },
  {
   "cell_type": "code",
   "execution_count": 4,
   "metadata": {
    "collapsed": true
   },
   "outputs": [],
   "source": [
    "tf.reset_default_graph()"
   ]
  },
  {
   "cell_type": "code",
   "execution_count": 5,
   "metadata": {
    "collapsed": true
   },
   "outputs": [],
   "source": [
    "X = tf.placeholder(tf.int32, [batch_size, 2], name='X')\n",
    "Y = tf.placeholder(tf.float32, [batch_size, ], name='Y')"
   ]
  },
  {
   "cell_type": "code",
   "execution_count": 6,
   "metadata": {
    "collapsed": true
   },
   "outputs": [],
   "source": [
    "embedding_user = tf.get_variable(\"embedding_user\", \\\n",
    "                                 [V_user, cells_dim],initializer=tf.contrib.layers.xavier_initializer())\n",
    "embedding_movie = tf.get_variable(\"embedding_movie\", \\\n",
    "                                 [V_movie, cells_dim],initializer=tf.contrib.layers.xavier_initializer())"
   ]
  },
  {
   "cell_type": "code",
   "execution_count": 7,
   "metadata": {
    "collapsed": true
   },
   "outputs": [],
   "source": [
    "X_user = tf.nn.embedding_lookup(embedding_user,X[:,1])\n",
    "X_movie = tf.nn.embedding_lookup(embedding_movie,X[:,0])"
   ]
  },
  {
   "cell_type": "code",
   "execution_count": 9,
   "metadata": {
    "collapsed": true
   },
   "outputs": [],
   "source": [
    "b0 = np.mean(ytrain,dtype=np.float32)\n",
    "b = tf.get_variable(\n",
    "    \"b\",\n",
    "    initializer=tf.constant(b0))"
   ]
  },
  {
   "cell_type": "code",
   "execution_count": 10,
   "metadata": {
    "collapsed": true
   },
   "outputs": [],
   "source": [
    "# yhat = tf.nn.sigmoid(b+X_user[:,0]+X_movie[:,0]+tf.einsum('nd,nd->n',X_user,X_movie)) * 4 + 1\n",
    "yhat = b+X_user[:,0]+X_movie[:,0]+tf.einsum('nd,nd->n',X_user[:,1:],X_movie[:,1:])"
   ]
  },
  {
   "cell_type": "code",
   "execution_count": 11,
   "metadata": {
    "collapsed": true
   },
   "outputs": [],
   "source": [
    "cost = tf.reduce_mean((Y-yhat)**2)"
   ]
  },
  {
   "cell_type": "code",
   "execution_count": 12,
   "metadata": {
    "collapsed": true
   },
   "outputs": [],
   "source": [
    "optimizer = tf.train.AdamOptimizer(learning_rate=learning_rate)\n",
    "train_op = optimizer.minimize(cost)"
   ]
  },
  {
   "cell_type": "markdown",
   "metadata": {},
   "source": [
    "Training"
   ]
  },
  {
   "cell_type": "code",
   "execution_count": 3,
   "metadata": {
    "collapsed": true
   },
   "outputs": [],
   "source": [
    "def batch_iterator(X,y,batch_size,shuffle=True):\n",
    "    n = X.shape[0]\n",
    "    index = np.random.permutation(n) if shuffle else range(n)\n",
    "    from_ = 0\n",
    "    for i in range(n//batch_size):\n",
    "        yield X[index[from_:from_+batch_size]],y[index[from_:from_+batch_size]]\n",
    "        from_ += batch_size"
   ]
  },
  {
   "cell_type": "code",
   "execution_count": 15,
   "metadata": {
    "collapsed": true
   },
   "outputs": [],
   "source": [
    "sess = tf.InteractiveSession()\n",
    "sess.run(tf.global_variables_initializer())"
   ]
  },
  {
   "cell_type": "code",
   "execution_count": 16,
   "metadata": {
    "collapsed": true
   },
   "outputs": [],
   "source": [
    "n_train = Xtrain.shape[0]//batch_size\n",
    "n_test = Xtest.shape[0]//batch_size"
   ]
  },
  {
   "cell_type": "code",
   "execution_count": 67,
   "metadata": {},
   "outputs": [
    {
     "name": "stdout",
     "output_type": "stream",
     "text": [
      "Train loss:0.834914844385, Val loss:0.715698077909\n",
      "Train loss:0.658083238892, Val loss:0.686548642687\n",
      "Train loss:0.593707999817, Val loss:0.692291251615\n",
      "Train loss:0.561786555653, Val loss:0.702673189681\n",
      "Train loss:0.542969985705, Val loss:0.712520237091\n"
     ]
    }
   ],
   "source": [
    "for i in range(epoch):\n",
    "    cost_train = 0\n",
    "    cost_test = 0\n",
    "    for X_np,Y_np in batch_iterator(Xtrain[:,:2],ytrain,batch_size):\n",
    "        _,cost_np = sess.run([train_op,cost],{X:X_np,Y:Y_np})\n",
    "        cost_train += cost_np\n",
    "    \n",
    "    for X_np,Y_np in batch_iterator(Xtest[:,:2],ytest,batch_size,False):\n",
    "        cost_np = sess.run([cost],{X:X_np,Y:Y_np})\n",
    "        cost_test += cost_np[0]    \n",
    "    \n",
    "    print \"Train loss:{}, Val loss:{}\".format(cost_train/n_train,cost_test/n_test)"
   ]
  },
  {
   "cell_type": "code",
   "execution_count": 17,
   "metadata": {},
   "outputs": [
    {
     "name": "stdout",
     "output_type": "stream",
     "text": [
      "Train loss:0.774577310152, Val loss:0.704337591423\n",
      "Train loss:0.643941695542, Val loss:0.688827670718\n",
      "Train loss:0.592241509148, Val loss:0.696242182505\n",
      "Train loss:0.566813218013, Val loss:0.705526035515\n",
      "Train loss:0.551550970261, Val loss:0.714033491024\n"
     ]
    }
   ],
   "source": [
    "for i in range(epoch):\n",
    "    cost_train = 0\n",
    "    cost_test = 0\n",
    "    for X_np,Y_np in batch_iterator(Xtrain[:,:2],ytrain,batch_size):\n",
    "        _,cost_np = sess.run([train_op,cost],{X:X_np,Y:Y_np})\n",
    "        cost_train += cost_np\n",
    "    \n",
    "    for X_np,Y_np in batch_iterator(Xtest[:,:2],ytest,batch_size,False):\n",
    "        cost_np = sess.run([cost],{X:X_np,Y:Y_np})\n",
    "        cost_test += cost_np[0]    \n",
    "    \n",
    "    print \"Train loss:{}, Val loss:{}\".format(cost_train/n_train,cost_test/n_test)"
   ]
  },
  {
   "cell_type": "code",
   "execution_count": null,
   "metadata": {
    "collapsed": true
   },
   "outputs": [],
   "source": []
  },
  {
   "cell_type": "markdown",
   "metadata": {
    "collapsed": true
   },
   "source": [
    "MLP instead of inner product"
   ]
  },
  {
   "cell_type": "code",
   "execution_count": 184,
   "metadata": {
    "collapsed": true
   },
   "outputs": [],
   "source": [
    "batch_size = 2000\n",
    "cells_dim = 50\n",
    "learning_rate = 1e-3\n",
    "epoch = 5\n",
    "V_user = np.max(Xtrain[:,1])\n",
    "V_movie = np.max(Xtrain[:,0])"
   ]
  },
  {
   "cell_type": "code",
   "execution_count": 185,
   "metadata": {
    "collapsed": true
   },
   "outputs": [],
   "source": [
    "tf.reset_default_graph()"
   ]
  },
  {
   "cell_type": "code",
   "execution_count": 186,
   "metadata": {
    "collapsed": true
   },
   "outputs": [],
   "source": [
    "X = tf.placeholder(tf.int32, [batch_size, 2], name='X')\n",
    "Y = tf.placeholder(tf.float32, [batch_size, ], name='Y')"
   ]
  },
  {
   "cell_type": "code",
   "execution_count": 187,
   "metadata": {
    "collapsed": true
   },
   "outputs": [],
   "source": [
    "embedding_user = tf.get_variable(\"embedding_user\", \\\n",
    "                                 [V_user, cells_dim*2],initializer=tf.contrib.layers.xavier_initializer())\n",
    "embedding_movie = tf.get_variable(\"embedding_movie\", \\\n",
    "                                 [V_movie, cells_dim*2],initializer=tf.contrib.layers.xavier_initializer())"
   ]
  },
  {
   "cell_type": "code",
   "execution_count": 188,
   "metadata": {
    "collapsed": true
   },
   "outputs": [],
   "source": [
    "X_user = tf.nn.embedding_lookup(embedding_user,X[:,1])\n",
    "X_movie = tf.nn.embedding_lookup(embedding_movie,X[:,0])\n",
    "X0 = tf.concat([X_user,X_movie],1)"
   ]
  },
  {
   "cell_type": "code",
   "execution_count": 189,
   "metadata": {
    "collapsed": true
   },
   "outputs": [],
   "source": [
    "weights0 = tf.Variable(tf.truncated_normal([cells_dim*4,cells_dim],\n",
    "                        stddev=1.0 / np.sqrt(cells_dim*4)),name='weights0')\n",
    "biases0 = tf.Variable(tf.zeros([cells_dim]),\n",
    "                     name='biases0')\n",
    "X1 = tf.nn.relu(tf.matmul(X0, weights0) + biases0)"
   ]
  },
  {
   "cell_type": "code",
   "execution_count": 190,
   "metadata": {
    "collapsed": true
   },
   "outputs": [],
   "source": [
    "weights1 = tf.Variable(tf.truncated_normal([cells_dim,1],\n",
    "                        stddev=1.0 / np.sqrt(cells_dim)),name='weights1')\n",
    "b0 = np.mean(ytrain,dtype=np.float32)\n",
    "biases1 = tf.get_variable(\"biases1\",\n",
    "    initializer=tf.constant(b0))\n",
    "yhat = tf.squeeze(tf.matmul(X1, weights1) + biases1)"
   ]
  },
  {
   "cell_type": "code",
   "execution_count": 191,
   "metadata": {
    "collapsed": true
   },
   "outputs": [],
   "source": [
    "cost = tf.reduce_mean((Y-yhat)**2)"
   ]
  },
  {
   "cell_type": "code",
   "execution_count": 192,
   "metadata": {
    "collapsed": true
   },
   "outputs": [],
   "source": [
    "optimizer = tf.train.AdamOptimizer(learning_rate=learning_rate)"
   ]
  },
  {
   "cell_type": "code",
   "execution_count": 193,
   "metadata": {
    "collapsed": true
   },
   "outputs": [],
   "source": [
    "train_op = optimizer.minimize(cost)"
   ]
  },
  {
   "cell_type": "code",
   "execution_count": 194,
   "metadata": {
    "collapsed": true
   },
   "outputs": [],
   "source": [
    "sess = tf.InteractiveSession()\n",
    "sess.run(tf.global_variables_initializer())"
   ]
  },
  {
   "cell_type": "code",
   "execution_count": 195,
   "metadata": {},
   "outputs": [
    {
     "name": "stdout",
     "output_type": "stream",
     "text": [
      "Train loss:0.800466296374, Val loss:0.749603450331\n",
      "Train loss:0.716299728379, Val loss:0.719147275345\n",
      "Train loss:0.676469943251, Val loss:0.710465194867\n",
      "Train loss:0.6483862691, Val loss:0.706165498421\n",
      "Train loss:0.62693416324, Val loss:0.708447006775\n"
     ]
    }
   ],
   "source": [
    "for i in range(epoch):\n",
    "    cost_train = 0\n",
    "    cost_test = 0\n",
    "    for X_np,Y_np in batch_iterator(Xtrain[:,:2],ytrain,batch_size):\n",
    "        _,cost_np = sess.run([train_op,cost],{X:X_np,Y:Y_np})\n",
    "        cost_train += cost_np\n",
    "    \n",
    "    for X_np,Y_np in batch_iterator(Xtest[:,:2],ytest,batch_size,False):\n",
    "        cost_np = sess.run([cost],{X:X_np,Y:Y_np})\n",
    "        cost_test += cost_np[0]    \n",
    "    \n",
    "    print \"Train loss:{}, Val loss:{}\".format(cost_train/n_train,cost_test/n_test)"
   ]
  },
  {
   "cell_type": "code",
   "execution_count": null,
   "metadata": {
    "collapsed": true
   },
   "outputs": [],
   "source": []
  },
  {
   "cell_type": "markdown",
   "metadata": {
    "collapsed": true
   },
   "source": [
    "Missing information feature extraction"
   ]
  },
  {
   "cell_type": "code",
   "execution_count": 4,
   "metadata": {
    "collapsed": true
   },
   "outputs": [],
   "source": [
    "batch_size = 2000\n",
    "cells_dim = 50\n",
    "learning_rate = 1e-3\n",
    "epoch = 5\n",
    "V_user = np.max(Xtrain[:,1])\n",
    "V_movie = np.max(Xtrain[:,0])\n",
    "p = .5 # positive sampling prob\n",
    "d = 1"
   ]
  },
  {
   "cell_type": "code",
   "execution_count": 5,
   "metadata": {
    "collapsed": true
   },
   "outputs": [],
   "source": [
    "tf.reset_default_graph()"
   ]
  },
  {
   "cell_type": "code",
   "execution_count": 6,
   "metadata": {
    "collapsed": true
   },
   "outputs": [],
   "source": [
    "X = tf.placeholder(tf.int32, [batch_size, 2], name='X')\n",
    "Y = tf.placeholder(tf.float32, [batch_size, ], name='Y')"
   ]
  },
  {
   "cell_type": "code",
   "execution_count": 7,
   "metadata": {
    "collapsed": true
   },
   "outputs": [],
   "source": [
    "embedding_user0 = tf.get_variable(\"embedding_user0\", \\\n",
    "                                 [V_user, cells_dim],initializer=tf.contrib.layers.xavier_initializer())\n",
    "embedding_movie0 = tf.get_variable(\"embedding_movie0\", \\\n",
    "                                 [V_movie, cells_dim],initializer=tf.contrib.layers.xavier_initializer())"
   ]
  },
  {
   "cell_type": "code",
   "execution_count": 8,
   "metadata": {},
   "outputs": [],
   "source": [
    "X_user = tf.nn.embedding_lookup(embedding_user0,X[:,1])\n",
    "X_movie = tf.nn.embedding_lookup(embedding_movie0,X[:,0])"
   ]
  },
  {
   "cell_type": "code",
   "execution_count": 9,
   "metadata": {},
   "outputs": [],
   "source": [
    "b0 = np.log(p/(1-p)).astype(np.float32)\n",
    "b = tf.get_variable(\n",
    "    \"b\",\n",
    "    initializer=tf.constant(b0))"
   ]
  },
  {
   "cell_type": "code",
   "execution_count": 10,
   "metadata": {},
   "outputs": [],
   "source": [
    "yhat = b + X_user[:,0]+X_movie[:,0]+tf.einsum('nd,nd->n',X_user[:,1:],X_movie[:,1:])"
   ]
  },
  {
   "cell_type": "code",
   "execution_count": 11,
   "metadata": {
    "collapsed": true
   },
   "outputs": [],
   "source": [
    "cost = tf.reduce_mean(tf.nn.sigmoid_cross_entropy_with_logits(labels=Y,logits=yhat))"
   ]
  },
  {
   "cell_type": "code",
   "execution_count": 12,
   "metadata": {
    "collapsed": true
   },
   "outputs": [],
   "source": [
    "optimizer = tf.train.AdamOptimizer(learning_rate=learning_rate)\n",
    "train_op = optimizer.minimize(cost)"
   ]
  },
  {
   "cell_type": "code",
   "execution_count": 13,
   "metadata": {
    "collapsed": true
   },
   "outputs": [],
   "source": [
    "def batch_iterator_missing(X,batch_size,V_user,V_movie, p=0.5,shuffle=True):\n",
    "    # negative sampling, p% from actual user/movie pair, 1-p% u,m uniformly sampled as non-example\n",
    "    n = X.shape[0]\n",
    "    k = int(batch_size*p)\n",
    "    m = batch_size - k\n",
    "    y = np.zeros(batch_size,dtype=np.float32)\n",
    "    y[:k] = 1.0\n",
    "    index = np.random.permutation(n) if shuffle else range(n)\n",
    "    from_ = 0\n",
    "    \n",
    "    for i in range(n//k):\n",
    "        yield np.r_[X[index[from_:from_+k]],np.c_[np.random.randint(0,high=V_movie,size=m),\\\n",
    "                                                  np.random.randint(0,high=V_user,size=m)]]\\\n",
    "                                    ,y\n",
    "        from_ += k"
   ]
  },
  {
   "cell_type": "code",
   "execution_count": 14,
   "metadata": {
    "collapsed": true
   },
   "outputs": [],
   "source": [
    "def batch_iterator_missing2(X,batch_size,unigram,d=1,shuffle=True):\n",
    "    # negative sampling, batch_size/(d+1) from actual user/movie pair, \n",
    "    # batch_size*d/(d+1) as non-example where u is the actual repeated d times,m sampled UNIGRAMLY from population\n",
    "    n = X.shape[0]\n",
    "    k = batch_size/(d+1)\n",
    "    m = batch_size - k\n",
    "    y = np.zeros(batch_size,dtype=np.float32)\n",
    "    y[:k] = 1.0\n",
    "    index = np.random.permutation(n) if shuffle else range(n)\n",
    "    from_ = 0\n",
    "    \n",
    "    for i in range(n//k):\n",
    "        yield np.r_[X[index[from_:from_+k]],np.c_[np.random.choice(unigram.shape[0],m,p=unigram),\\\n",
    "                                                  np.repeat(X[index[from_:from_+k],1],d)]]\\\n",
    "                                    ,y\n",
    "        from_ += k"
   ]
  },
  {
   "cell_type": "code",
   "execution_count": 15,
   "metadata": {},
   "outputs": [],
   "source": [
    "_,unigram = np.unique(Xtrain[:,0],return_counts=True)"
   ]
  },
  {
   "cell_type": "code",
   "execution_count": 26,
   "metadata": {
    "collapsed": true
   },
   "outputs": [],
   "source": [
    "unigram = 1.0*unigram/np.sum(unigram)"
   ]
  },
  {
   "cell_type": "markdown",
   "metadata": {},
   "source": [
    "<br>"
   ]
  },
  {
   "cell_type": "code",
   "execution_count": 16,
   "metadata": {
    "collapsed": true
   },
   "outputs": [],
   "source": [
    "embedding_user1 = tf.get_variable(\"embedding_user1\", \\\n",
    "                                 [V_user, cells_dim],initializer=tf.contrib.layers.xavier_initializer())\n",
    "embedding_movie1 = tf.get_variable(\"embedding_movie1\", \\\n",
    "                                 [V_movie, cells_dim],initializer=tf.contrib.layers.xavier_initializer())"
   ]
  },
  {
   "cell_type": "code",
   "execution_count": 17,
   "metadata": {
    "collapsed": true
   },
   "outputs": [],
   "source": [
    "X_user1 = tf.nn.embedding_lookup(embedding_user1,X[:,1])\n",
    "X_movie1 = tf.nn.embedding_lookup(embedding_movie1,X[:,0])\n",
    "X0 = tf.concat([X_user,X_movie,X_user1,X_movie1],1)"
   ]
  },
  {
   "cell_type": "code",
   "execution_count": 18,
   "metadata": {
    "collapsed": true
   },
   "outputs": [],
   "source": [
    "weights0 = tf.Variable(tf.truncated_normal([cells_dim*4,cells_dim],\n",
    "                        stddev=1.0 / np.sqrt(cells_dim*4)),name='weights0')\n",
    "biases0 = tf.Variable(tf.zeros([cells_dim]),\n",
    "                     name='biases0')\n",
    "X1 = tf.nn.relu(tf.matmul(X0, weights0) + biases0)"
   ]
  },
  {
   "cell_type": "code",
   "execution_count": 19,
   "metadata": {
    "collapsed": true
   },
   "outputs": [],
   "source": [
    "weights1 = tf.Variable(tf.truncated_normal([cells_dim,1],\n",
    "                        stddev=1.0 / np.sqrt(cells_dim)),name='weights1')\n",
    "b0 = np.mean(ytrain,dtype=np.float32)\n",
    "biases1 = tf.get_variable(\"biases1\",\n",
    "    initializer=tf.constant(b0))\n",
    "yhat2 = tf.squeeze(tf.matmul(X1, weights1) + biases1)"
   ]
  },
  {
   "cell_type": "code",
   "execution_count": 20,
   "metadata": {
    "collapsed": true
   },
   "outputs": [],
   "source": [
    "Y2 = tf.placeholder(tf.float32, [batch_size, ], name='Y2')\n",
    "cost2 = tf.reduce_mean((Y2-yhat2)**2)"
   ]
  },
  {
   "cell_type": "code",
   "execution_count": 21,
   "metadata": {
    "collapsed": true
   },
   "outputs": [],
   "source": [
    "optimizer2 = tf.train.AdamOptimizer(learning_rate=learning_rate)\n",
    "train_op2 = optimizer2.minimize(cost2,\\\n",
    "                        var_list=[embedding_user1,embedding_movie1,weights0,biases0,\\\n",
    "                                 weights1,biases1])"
   ]
  },
  {
   "cell_type": "markdown",
   "metadata": {},
   "source": [
    "pre-training"
   ]
  },
  {
   "cell_type": "code",
   "execution_count": 179,
   "metadata": {
    "collapsed": true
   },
   "outputs": [],
   "source": [
    "sess = tf.InteractiveSession()\n",
    "sess.run(tf.global_variables_initializer())"
   ]
  },
  {
   "cell_type": "code",
   "execution_count": 180,
   "metadata": {
    "collapsed": true
   },
   "outputs": [],
   "source": [
    "n_train = Xtrain.shape[0]//int(batch_size*p)\n",
    "n_test = Xtest.shape[0]//int(batch_size*p)"
   ]
  },
  {
   "cell_type": "code",
   "execution_count": 181,
   "metadata": {
    "scrolled": true
   },
   "outputs": [
    {
     "name": "stdout",
     "output_type": "stream",
     "text": [
      "Train loss:0.252721631242, Val loss:0.21166219235\n",
      "Train loss:0.196951907906, Val loss:0.192961629696\n",
      "Train loss:0.180811077684, Val loss:0.188070224141\n",
      "Train loss:0.172494275106, Val loss:0.188060602753\n",
      "Train loss:0.16777400367, Val loss:0.189531833657\n"
     ]
    }
   ],
   "source": [
    "for i in range(epoch):\n",
    "    cost_train = 0\n",
    "    cost_test = 0\n",
    "    for X_np,Y_np in batch_iterator_missing(Xtrain[:,:2],batch_size,V_user,V_movie,p=p):\n",
    "        _,cost_np = sess.run([train_op,cost],{X:X_np,Y:Y_np})\n",
    "        cost_train += cost_np\n",
    "    \n",
    "    for X_np,Y_np in batch_iterator_missing(Xtest[:,:2],batch_size,V_user,V_movie,p=p,shuffle=False):\n",
    "        cost_np = sess.run([cost],{X:X_np,Y:Y_np})\n",
    "        cost_test += cost_np[0]    \n",
    "    \n",
    "    print \"Train loss:{}, Val loss:{}\".format(cost_train/n_train,cost_test/n_test)"
   ]
  },
  {
   "cell_type": "markdown",
   "metadata": {},
   "source": [
    "pre-training with unigram instead of uniform"
   ]
  },
  {
   "cell_type": "code",
   "execution_count": 22,
   "metadata": {},
   "outputs": [],
   "source": [
    "sess = tf.InteractiveSession()\n",
    "sess.run(tf.global_variables_initializer())"
   ]
  },
  {
   "cell_type": "code",
   "execution_count": 23,
   "metadata": {
    "collapsed": true
   },
   "outputs": [],
   "source": [
    "n_train = Xtrain.shape[0]//(batch_size/(d+1))\n",
    "n_test = Xtest.shape[0]//(batch_size/(d+1))"
   ]
  },
  {
   "cell_type": "code",
   "execution_count": 29,
   "metadata": {
    "scrolled": true
   },
   "outputs": [
    {
     "name": "stdout",
     "output_type": "stream",
     "text": [
      "Train loss:0.605316479445, Val loss:0.57045159266\n",
      "Train loss:0.555575274415, Val loss:0.556116987547\n",
      "Train loss:0.539932697089, Val loss:0.55208317317\n",
      "Train loss:0.531780930668, Val loss:0.551386037964\n",
      "Train loss:0.527009378423, Val loss:0.551640862912\n"
     ]
    }
   ],
   "source": [
    "for i in range(epoch):\n",
    "    cost_train = 0\n",
    "    cost_test = 0\n",
    "    for X_np,Y_np in batch_iterator_missing2(Xtrain[:,:2],batch_size,unigram,d=d):\n",
    "        _,cost_np = sess.run([train_op,cost],{X:X_np,Y:Y_np})\n",
    "        cost_train += cost_np\n",
    "    \n",
    "    for X_np,Y_np in batch_iterator_missing2(Xtest[:,:2],batch_size,unigram,d=d,shuffle=False):\n",
    "        cost_np = sess.run([cost],{X:X_np,Y:Y_np})\n",
    "        cost_test += cost_np[0]    \n",
    "    \n",
    "    print \"Train loss:{}, Val loss:{}\".format(cost_train/n_train,cost_test/n_test)"
   ]
  },
  {
   "cell_type": "markdown",
   "metadata": {},
   "source": [
    "Training with first stage embedding fixed"
   ]
  },
  {
   "cell_type": "code",
   "execution_count": 30,
   "metadata": {
    "collapsed": true
   },
   "outputs": [],
   "source": [
    "n_train = Xtrain.shape[0]//batch_size\n",
    "n_test = Xtest.shape[0]//batch_size"
   ]
  },
  {
   "cell_type": "code",
   "execution_count": 31,
   "metadata": {},
   "outputs": [
    {
     "name": "stdout",
     "output_type": "stream",
     "text": [
      "Train loss:0.735813758503, Val loss:0.701166857846\n",
      "Train loss:0.667574365635, Val loss:0.688900958614\n",
      "Train loss:0.636612164666, Val loss:0.685067618407\n",
      "Train loss:0.616155376975, Val loss:0.685883329163\n",
      "Train loss:0.60090292539, Val loss:0.687098913057\n"
     ]
    }
   ],
   "source": [
    "for i in range(epoch):\n",
    "    cost_train = 0\n",
    "    cost_test = 0\n",
    "    for X_np,Y_np in batch_iterator(Xtrain[:,:2],ytrain,batch_size):\n",
    "        _,cost_np = sess.run([train_op2,cost2],{X:X_np,Y2:Y_np})\n",
    "        cost_train += cost_np\n",
    "    \n",
    "    for X_np,Y_np in batch_iterator(Xtest[:,:2],ytest,batch_size,False):\n",
    "        cost_np = sess.run([cost2],{X:X_np,Y2:Y_np})\n",
    "        cost_test += cost_np[0]    \n",
    "    \n",
    "    print \"Train loss:{}, Val loss:{}\".format(cost_train/n_train,cost_test/n_test)"
   ]
  },
  {
   "cell_type": "code",
   "execution_count": null,
   "metadata": {
    "collapsed": true
   },
   "outputs": [],
   "source": []
  },
  {
   "cell_type": "code",
   "execution_count": null,
   "metadata": {
    "collapsed": true
   },
   "outputs": [],
   "source": []
  }
 ],
 "metadata": {
  "kernelspec": {
   "display_name": "Python 2",
   "language": "python",
   "name": "python2"
  },
  "language_info": {
   "codemirror_mode": {
    "name": "ipython",
    "version": 2
   },
   "file_extension": ".py",
   "mimetype": "text/x-python",
   "name": "python",
   "nbconvert_exporter": "python",
   "pygments_lexer": "ipython2",
   "version": "2.7.13"
  }
 },
 "nbformat": 4,
 "nbformat_minor": 2
}
